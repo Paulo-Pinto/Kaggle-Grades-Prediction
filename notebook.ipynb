{
 "cells": [
  {
   "cell_type": "markdown",
   "metadata": {},
   "source": [
    "# A minha nota (Kaggle)\n",
    "\n",
    "João Ferreira - 21905985; Paulo Pinto - 21906966\n",
    "\n",
    "Batatinhas123"
   ]
  },
  {
   "cell_type": "markdown",
   "metadata": {},
   "source": [
    "## Imports + Helpers"
   ]
  },
  {
   "cell_type": "code",
   "execution_count": 3,
   "metadata": {},
   "outputs": [],
   "source": [
    "import pandas as pd\n",
    "import numpy as np\n",
    "from numpy.random import randint\n",
    "\n",
    "import seaborn as sns\n",
    "import matplotlib.pyplot as plt\n",
    "\n",
    "from sklearn.linear_model import LinearRegression\n",
    "from sklearn.ensemble import RandomForestRegressor\n",
    "from sklearn.model_selection import GridSearchCV\n",
    "from sklearn.model_selection import train_test_split\n",
    "from sklearn.metrics import mean_squared_error\n",
    "\n",
    "from datetime import datetime\n",
    "import time"
   ]
  },
  {
   "cell_type": "code",
   "execution_count": 4,
   "metadata": {},
   "outputs": [],
   "source": [
    "def write_prediction_to_file(prediction, filename):\n",
    "    with open(f\"data/prediction_{filename}.csv\", \"w+\") as fp:\n",
    "        fp.write(f\"index,G3\\n\")\n",
    "        for i, n in enumerate(prediction):\n",
    "            fp.write(f\"{i},{n}\\n\")\n",
    "\n",
    "def write_to_best_file(rmse, pred, seed):\n",
    "    with open(f\"data/best.csv\", \"a\") as fp:\n",
    "        fp.write(f\"\\n{rmse=} ; {seed=}\")\n",
    "\n",
    "# track last seed used\n",
    "def manage_seed(counter_value=0):\n",
    "    \"\"\"\n",
    "    write to  file -> manage_seed(1234)\n",
    "    read from file -> manage_seed()\n",
    "    \"\"\"\n",
    "    if counter_value == 0:\n",
    "        with open(\"last_seed.txt\") as fp:\n",
    "            return fp.readline()\n",
    "\n",
    "    with open(\"last_seed.txt\", \"w+\") as fp:\n",
    "        fp.write(str(counter_value))\n",
    "\n",
    "# reset seed counter\n",
    "# manage_seed(1)"
   ]
  },
  {
   "cell_type": "markdown",
   "metadata": {},
   "source": [
    "## Análise dos dados"
   ]
  },
  {
   "cell_type": "code",
   "execution_count": 5,
   "metadata": {},
   "outputs": [
    {
     "data": {
      "text/html": [
       "<div>\n",
       "<style scoped>\n",
       "    .dataframe tbody tr th:only-of-type {\n",
       "        vertical-align: middle;\n",
       "    }\n",
       "\n",
       "    .dataframe tbody tr th {\n",
       "        vertical-align: top;\n",
       "    }\n",
       "\n",
       "    .dataframe thead th {\n",
       "        text-align: right;\n",
       "    }\n",
       "</style>\n",
       "<table border=\"1\" class=\"dataframe\">\n",
       "  <thead>\n",
       "    <tr style=\"text-align: right;\">\n",
       "      <th></th>\n",
       "      <th>index</th>\n",
       "      <th>age</th>\n",
       "      <th>Medu</th>\n",
       "      <th>Fedu</th>\n",
       "      <th>traveltime</th>\n",
       "      <th>studytime</th>\n",
       "      <th>failures</th>\n",
       "      <th>famrel</th>\n",
       "      <th>freetime</th>\n",
       "      <th>goout</th>\n",
       "      <th>...</th>\n",
       "      <th>activities_no</th>\n",
       "      <th>activities_yes</th>\n",
       "      <th>nursery_no</th>\n",
       "      <th>nursery_yes</th>\n",
       "      <th>higher_no</th>\n",
       "      <th>higher_yes</th>\n",
       "      <th>internet_no</th>\n",
       "      <th>internet_yes</th>\n",
       "      <th>romantic_no</th>\n",
       "      <th>romantic_yes</th>\n",
       "    </tr>\n",
       "  </thead>\n",
       "  <tbody>\n",
       "    <tr>\n",
       "      <th>0</th>\n",
       "      <td>1000</td>\n",
       "      <td>15</td>\n",
       "      <td>4</td>\n",
       "      <td>2</td>\n",
       "      <td>1</td>\n",
       "      <td>1</td>\n",
       "      <td>0</td>\n",
       "      <td>3</td>\n",
       "      <td>5</td>\n",
       "      <td>2</td>\n",
       "      <td>...</td>\n",
       "      <td>1</td>\n",
       "      <td>0</td>\n",
       "      <td>0</td>\n",
       "      <td>1</td>\n",
       "      <td>0</td>\n",
       "      <td>1</td>\n",
       "      <td>0</td>\n",
       "      <td>1</td>\n",
       "      <td>1</td>\n",
       "      <td>0</td>\n",
       "    </tr>\n",
       "    <tr>\n",
       "      <th>1</th>\n",
       "      <td>1001</td>\n",
       "      <td>18</td>\n",
       "      <td>2</td>\n",
       "      <td>1</td>\n",
       "      <td>2</td>\n",
       "      <td>2</td>\n",
       "      <td>0</td>\n",
       "      <td>4</td>\n",
       "      <td>3</td>\n",
       "      <td>5</td>\n",
       "      <td>...</td>\n",
       "      <td>1</td>\n",
       "      <td>0</td>\n",
       "      <td>0</td>\n",
       "      <td>1</td>\n",
       "      <td>1</td>\n",
       "      <td>0</td>\n",
       "      <td>0</td>\n",
       "      <td>1</td>\n",
       "      <td>0</td>\n",
       "      <td>1</td>\n",
       "    </tr>\n",
       "    <tr>\n",
       "      <th>2</th>\n",
       "      <td>1002</td>\n",
       "      <td>17</td>\n",
       "      <td>3</td>\n",
       "      <td>3</td>\n",
       "      <td>2</td>\n",
       "      <td>4</td>\n",
       "      <td>1</td>\n",
       "      <td>5</td>\n",
       "      <td>4</td>\n",
       "      <td>5</td>\n",
       "      <td>...</td>\n",
       "      <td>0</td>\n",
       "      <td>1</td>\n",
       "      <td>0</td>\n",
       "      <td>1</td>\n",
       "      <td>0</td>\n",
       "      <td>1</td>\n",
       "      <td>1</td>\n",
       "      <td>0</td>\n",
       "      <td>1</td>\n",
       "      <td>0</td>\n",
       "    </tr>\n",
       "    <tr>\n",
       "      <th>3</th>\n",
       "      <td>1003</td>\n",
       "      <td>16</td>\n",
       "      <td>3</td>\n",
       "      <td>3</td>\n",
       "      <td>1</td>\n",
       "      <td>3</td>\n",
       "      <td>0</td>\n",
       "      <td>4</td>\n",
       "      <td>3</td>\n",
       "      <td>3</td>\n",
       "      <td>...</td>\n",
       "      <td>1</td>\n",
       "      <td>0</td>\n",
       "      <td>0</td>\n",
       "      <td>1</td>\n",
       "      <td>0</td>\n",
       "      <td>1</td>\n",
       "      <td>0</td>\n",
       "      <td>1</td>\n",
       "      <td>0</td>\n",
       "      <td>1</td>\n",
       "    </tr>\n",
       "    <tr>\n",
       "      <th>4</th>\n",
       "      <td>1004</td>\n",
       "      <td>17</td>\n",
       "      <td>1</td>\n",
       "      <td>1</td>\n",
       "      <td>2</td>\n",
       "      <td>1</td>\n",
       "      <td>0</td>\n",
       "      <td>4</td>\n",
       "      <td>4</td>\n",
       "      <td>5</td>\n",
       "      <td>...</td>\n",
       "      <td>0</td>\n",
       "      <td>1</td>\n",
       "      <td>1</td>\n",
       "      <td>0</td>\n",
       "      <td>0</td>\n",
       "      <td>1</td>\n",
       "      <td>0</td>\n",
       "      <td>1</td>\n",
       "      <td>0</td>\n",
       "      <td>1</td>\n",
       "    </tr>\n",
       "    <tr>\n",
       "      <th>...</th>\n",
       "      <td>...</td>\n",
       "      <td>...</td>\n",
       "      <td>...</td>\n",
       "      <td>...</td>\n",
       "      <td>...</td>\n",
       "      <td>...</td>\n",
       "      <td>...</td>\n",
       "      <td>...</td>\n",
       "      <td>...</td>\n",
       "      <td>...</td>\n",
       "      <td>...</td>\n",
       "      <td>...</td>\n",
       "      <td>...</td>\n",
       "      <td>...</td>\n",
       "      <td>...</td>\n",
       "      <td>...</td>\n",
       "      <td>...</td>\n",
       "      <td>...</td>\n",
       "      <td>...</td>\n",
       "      <td>...</td>\n",
       "      <td>...</td>\n",
       "    </tr>\n",
       "    <tr>\n",
       "      <th>540</th>\n",
       "      <td>1540</td>\n",
       "      <td>17</td>\n",
       "      <td>4</td>\n",
       "      <td>4</td>\n",
       "      <td>3</td>\n",
       "      <td>1</td>\n",
       "      <td>3</td>\n",
       "      <td>3</td>\n",
       "      <td>3</td>\n",
       "      <td>3</td>\n",
       "      <td>...</td>\n",
       "      <td>0</td>\n",
       "      <td>1</td>\n",
       "      <td>0</td>\n",
       "      <td>1</td>\n",
       "      <td>0</td>\n",
       "      <td>1</td>\n",
       "      <td>0</td>\n",
       "      <td>1</td>\n",
       "      <td>0</td>\n",
       "      <td>1</td>\n",
       "    </tr>\n",
       "    <tr>\n",
       "      <th>541</th>\n",
       "      <td>1541</td>\n",
       "      <td>17</td>\n",
       "      <td>1</td>\n",
       "      <td>1</td>\n",
       "      <td>1</td>\n",
       "      <td>3</td>\n",
       "      <td>0</td>\n",
       "      <td>4</td>\n",
       "      <td>3</td>\n",
       "      <td>4</td>\n",
       "      <td>...</td>\n",
       "      <td>0</td>\n",
       "      <td>1</td>\n",
       "      <td>0</td>\n",
       "      <td>1</td>\n",
       "      <td>0</td>\n",
       "      <td>1</td>\n",
       "      <td>1</td>\n",
       "      <td>0</td>\n",
       "      <td>0</td>\n",
       "      <td>1</td>\n",
       "    </tr>\n",
       "    <tr>\n",
       "      <th>542</th>\n",
       "      <td>1542</td>\n",
       "      <td>17</td>\n",
       "      <td>1</td>\n",
       "      <td>3</td>\n",
       "      <td>2</td>\n",
       "      <td>1</td>\n",
       "      <td>0</td>\n",
       "      <td>5</td>\n",
       "      <td>1</td>\n",
       "      <td>2</td>\n",
       "      <td>...</td>\n",
       "      <td>0</td>\n",
       "      <td>1</td>\n",
       "      <td>0</td>\n",
       "      <td>1</td>\n",
       "      <td>0</td>\n",
       "      <td>1</td>\n",
       "      <td>1</td>\n",
       "      <td>0</td>\n",
       "      <td>0</td>\n",
       "      <td>1</td>\n",
       "    </tr>\n",
       "    <tr>\n",
       "      <th>543</th>\n",
       "      <td>1543</td>\n",
       "      <td>17</td>\n",
       "      <td>1</td>\n",
       "      <td>0</td>\n",
       "      <td>2</td>\n",
       "      <td>2</td>\n",
       "      <td>0</td>\n",
       "      <td>4</td>\n",
       "      <td>4</td>\n",
       "      <td>5</td>\n",
       "      <td>...</td>\n",
       "      <td>1</td>\n",
       "      <td>0</td>\n",
       "      <td>0</td>\n",
       "      <td>1</td>\n",
       "      <td>0</td>\n",
       "      <td>1</td>\n",
       "      <td>0</td>\n",
       "      <td>1</td>\n",
       "      <td>0</td>\n",
       "      <td>1</td>\n",
       "    </tr>\n",
       "    <tr>\n",
       "      <th>544</th>\n",
       "      <td>1544</td>\n",
       "      <td>17</td>\n",
       "      <td>2</td>\n",
       "      <td>2</td>\n",
       "      <td>1</td>\n",
       "      <td>1</td>\n",
       "      <td>0</td>\n",
       "      <td>5</td>\n",
       "      <td>1</td>\n",
       "      <td>3</td>\n",
       "      <td>...</td>\n",
       "      <td>1</td>\n",
       "      <td>0</td>\n",
       "      <td>0</td>\n",
       "      <td>1</td>\n",
       "      <td>0</td>\n",
       "      <td>1</td>\n",
       "      <td>0</td>\n",
       "      <td>1</td>\n",
       "      <td>1</td>\n",
       "      <td>0</td>\n",
       "    </tr>\n",
       "  </tbody>\n",
       "</table>\n",
       "<p>545 rows × 58 columns</p>\n",
       "</div>"
      ],
      "text/plain": [
       "     index  age  Medu  Fedu  traveltime  studytime  failures  famrel  \\\n",
       "0     1000   15     4     2           1          1         0       3   \n",
       "1     1001   18     2     1           2          2         0       4   \n",
       "2     1002   17     3     3           2          4         1       5   \n",
       "3     1003   16     3     3           1          3         0       4   \n",
       "4     1004   17     1     1           2          1         0       4   \n",
       "..     ...  ...   ...   ...         ...        ...       ...     ...   \n",
       "540   1540   17     4     4           3          1         3       3   \n",
       "541   1541   17     1     1           1          3         0       4   \n",
       "542   1542   17     1     3           2          1         0       5   \n",
       "543   1543   17     1     0           2          2         0       4   \n",
       "544   1544   17     2     2           1          1         0       5   \n",
       "\n",
       "     freetime  goout  ...  activities_no  activities_yes  nursery_no  \\\n",
       "0           5      2  ...              1               0           0   \n",
       "1           3      5  ...              1               0           0   \n",
       "2           4      5  ...              0               1           0   \n",
       "3           3      3  ...              1               0           0   \n",
       "4           4      5  ...              0               1           1   \n",
       "..        ...    ...  ...            ...             ...         ...   \n",
       "540         3      3  ...              0               1           0   \n",
       "541         3      4  ...              0               1           0   \n",
       "542         1      2  ...              0               1           0   \n",
       "543         4      5  ...              1               0           0   \n",
       "544         1      3  ...              1               0           0   \n",
       "\n",
       "     nursery_yes  higher_no  higher_yes  internet_no  internet_yes  \\\n",
       "0              1          0           1            0             1   \n",
       "1              1          1           0            0             1   \n",
       "2              1          0           1            1             0   \n",
       "3              1          0           1            0             1   \n",
       "4              0          0           1            0             1   \n",
       "..           ...        ...         ...          ...           ...   \n",
       "540            1          0           1            0             1   \n",
       "541            1          0           1            1             0   \n",
       "542            1          0           1            1             0   \n",
       "543            1          0           1            0             1   \n",
       "544            1          0           1            0             1   \n",
       "\n",
       "     romantic_no  romantic_yes  \n",
       "0              1             0  \n",
       "1              0             1  \n",
       "2              1             0  \n",
       "3              0             1  \n",
       "4              0             1  \n",
       "..           ...           ...  \n",
       "540            0             1  \n",
       "541            0             1  \n",
       "542            0             1  \n",
       "543            0             1  \n",
       "544            1             0  \n",
       "\n",
       "[545 rows x 58 columns]"
      ]
     },
     "execution_count": 5,
     "metadata": {},
     "output_type": "execute_result"
    }
   ],
   "source": [
    "notas_df = pd.read_csv(\"data/student_data.csv\")\n",
    "# notas_df = notas_df[notas_df[\"G3\"] != 0] # remove notas 0\n",
    "notas_df"
   ]
  },
  {
   "cell_type": "markdown",
   "metadata": {},
   "source": [
    "    - school (GP ≳ 2 que MS) sns.barplot(data=notas_df, x=\"school\", y=\"grade\").set_title(\"graph\")\n",
    "    - absences -> sns.lineplot(data=notas_df, y=\"absences\",x=\"grade\").set_title(\"graph\")"
   ]
  },
  {
   "cell_type": "code",
   "execution_count": 6,
   "metadata": {},
   "outputs": [
    {
     "data": {
      "text/plain": [
       "Text(0.5, 1.0, 'graph')"
      ]
     },
     "execution_count": 6,
     "metadata": {},
     "output_type": "execute_result"
    },
    {
     "data": {
      "image/png": "[encoded data removed]",
      "text/plain": [
       "<Figure size 432x288 with 1 Axes>"
      ]
     },
     "metadata": {
      "needs_background": "light"
     },
     "output_type": "display_data"
    }
   ],
   "source": [
    "sns.lineplot(data=notas_df, y=\"absences\",x=\"G3\").set_title(\"graph\")"
   ]
  },
  {
   "cell_type": "code",
   "execution_count": 11,
   "metadata": {},
   "outputs": [
    {
     "data": {
      "text/plain": [
       "Text(0.5, 1.0, 'graph')"
      ]
     },
     "execution_count": 11,
     "metadata": {},
     "output_type": "execute_result"
    },
    {
     "data": {
      "image/png": "[encoded data removed]",
      "text/plain": [
       "<Figure size 432x288 with 1 Axes>"
      ]
     },
     "metadata": {
      "needs_background": "light"
     },
     "output_type": "display_data"
    }
   ],
   "source": [
    "sns.lineplot(data=notas_df, y=\"failures\",x=\"G3\").set_title(\"graph\")"
   ]
  },
  {
   "cell_type": "markdown",
   "metadata": {},
   "source": [
    "### Analisar correlações"
   ]
  },
  {
   "cell_type": "markdown",
   "metadata": {},
   "source": [
    "correlations ->\n",
    "\n",
    "visualize - https://seaborn.pydata.org/tutorial/relational.html\n",
    "\n",
    "get - https://www.projectpro.io/recipes/drop-out-highly-correlated-features-in-python\n",
    "\n",
    "get unique - https://pandas.pydata.org/pandas-docs/stable/reference/api/pandas.Series.unstack.html"
   ]
  },
  {
   "cell_type": "code",
   "execution_count": 7,
   "metadata": {},
   "outputs": [
    {
     "data": {
      "text/plain": [
       "index         0.057305\n",
       "goout         0.078666\n",
       "famrel        0.086336\n",
       "health        0.091598\n",
       "absences      0.097812\n",
       "freetime      0.109047\n",
       "age           0.110315\n",
       "traveltime    0.163644\n",
       "Walc          0.168310\n",
       "Dalc          0.179147\n",
       "Fedu          0.198938\n",
       "Medu          0.260261\n",
       "studytime     0.281908\n",
       "failures      0.382862\n",
       "dtype: float64"
      ]
     },
     "execution_count": 7,
     "metadata": {},
     "output_type": "execute_result"
    }
   ],
   "source": [
    "correlations = notas_df.corr()\n",
    "upper_corr = correlations.where(np.triu(np.ones(correlations.shape), k = 1).astype(bool))\n",
    "unique_corr = upper_corr.unstack().dropna()\n",
    "sorted_corr = unique_corr.sort_values()\n",
    "g3_corr = abs(sorted_corr[\"G3\"]).sort_values()\n",
    "g3_corr"
   ]
  },
  {
   "cell_type": "markdown",
   "metadata": {},
   "source": [
    "Optámos por remover as variáveis independentes que tinham menos correlação com a variável dependente. Esta remoção diminui o tempo de treino (numa iteração não é significante mas em milhares começa a ser) e melhora as previsões porque as variáveis com mais correlação ficam com mais peso no valor final."
   ]
  },
  {
   "cell_type": "code",
   "execution_count": 8,
   "metadata": {},
   "outputs": [],
   "source": [
    "low_correlation_vars = [\"goout\", \"famrel\", \"health\"]"
   ]
  },
  {
   "cell_type": "markdown",
   "metadata": {},
   "source": [
    "## Leitura dos dados"
   ]
  },
  {
   "cell_type": "markdown",
   "metadata": {},
   "source": [
    "Testámos remover as rows em que a nota final era 0, mas esta alteração piorou os resultados."
   ]
  },
  {
   "cell_type": "code",
   "execution_count": 9,
   "metadata": {},
   "outputs": [
    {
     "name": "stdout",
     "output_type": "stream",
     "text": [
      "0\n"
     ]
    }
   ],
   "source": [
    "# Read + Split data\n",
    "notas_df = pd.read_csv(\"data/student_data.csv\")\n",
    "# notas_df = notas_df[notas_df[\"G3\"] == 0] # remove notas 0\n",
    "notas_df = notas_df.drop(low_correlation_vars, axis=1)\n",
    "notas = notas_df.drop([\"G3\", \"index\"], axis=1)\n",
    "\n",
    "# splitting the data\n",
    "features_train, features_test, target_train, target_test = \\\n",
    "train_test_split(notas, notas_df['G3'], test_size = 0.2, random_state=0)\n",
    "\n",
    "# features_train, target_train = notas, notas_df['G3'] # usar dataset inteiro"
   ]
  },
  {
   "cell_type": "code",
   "execution_count": 13,
   "metadata": {},
   "outputs": [
    {
     "name": "stdout",
     "output_type": "stream",
     "text": [
      "new best - rmse 2.652 833136\n",
      "best=(2.651529936961045, 833136, array([13.85386251, 12.87173514, 11.84828699, 10.29130159, 10.7156327 ,\n",
      "        9.52      ,  8.2       , 10.90305556, 13.36076265, 12.67651785,\n",
      "       13.22642175,  8.41446154, 10.92088344, 13.30460391, 12.04841981,\n",
      "       10.80254427, 12.81822487,  9.244     , 14.11979696, 11.53594117,\n",
      "       13.84725744, 11.66796083, 13.77990959, 13.87836145,  8.65872144,\n",
      "       10.98097636, 14.64130873, 12.90628589, 13.40919905, 10.3985119 ,\n",
      "       10.36781542, 13.65653884,  9.40828571, 12.34722132,  8.90119734,\n",
      "        8.89519048, 13.09983807, 10.53030325, 11.91181536, 12.03605952,\n",
      "       14.11886611,  9.72111111, 11.29140989, 11.81103892, 11.3175348 ,\n",
      "       10.26365088, 12.22489849, 11.28999171, 12.46251943, 13.37234631,\n",
      "       13.79395883,  9.78064485, 12.99782856, 12.74561159, 13.43371074,\n",
      "       13.44051703, 11.6808002 , 12.19448228, 14.41108041, 13.68343042,\n",
      "       12.90435081, 11.0353547 ,  8.14      , 12.98124641, 14.02535382,\n",
      "       12.80629716, 12.59653745, 13.05296987, 12.66413604, 13.14599219,\n",
      "        9.94398535, 11.56328321, 14.40252114,  9.65346154, 13.30045842,\n",
      "       13.05314294, 13.99972822,  6.1925    , 11.53175335, 12.30886858,\n",
      "       13.54746282, 13.85488846, 12.1269826 ,  9.74192308, 11.92342249,\n",
      "       12.89958758, 11.30858159, 10.78666667, 13.56094058, 13.67845086,\n",
      "       10.88988145, 13.56836162, 13.44259829, 10.76918526, 13.56125075,\n",
      "       10.50285317,  8.87788889, 10.903552  ,  9.14861111, 11.33681755,\n",
      "       12.24239044, 11.6213701 , 14.0528289 ,  9.35032773, 11.67718598,\n",
      "       14.00831492, 12.23442653, 13.09321462, 12.42382071]))\n"
     ]
    }
   ],
   "source": [
    "best = 3.0, 0, 0 # save best so far\n",
    "\n",
    "# try different seeds\n",
    "for r in range(0, 200):\n",
    "    rand = randint(999999)\n",
    "    \n",
    "    params = {\n",
    "    'n_estimators': 50,\n",
    "    'max_features': 0.2,\n",
    "    'max_depth': 10,\n",
    "    \"random_state\" : rand\n",
    "    }\n",
    "    \n",
    "    rf = RandomForestRegressor(**params).fit(features_train, target_train)\n",
    "    \n",
    "    prediction = rf.predict(features_test)\n",
    "    rmse = np.sqrt(mean_squared_error(target_test, prediction))\n",
    "\n",
    "    # replace best so far\n",
    "    if rmse < best[0]:\n",
    "        best = rmse, rand, prediction\n",
    "        print(f\"new best - rmse {best[0]:.3f} {best[1]}\")\n",
    "\n",
    "# save best prediction\n",
    "write_prediction_to_file(best[2], f\"rmse_{best[0]:.3f}_seed_{best[1]}\")\n",
    "\n",
    "print(f\"{best=}\")"
   ]
  },
  {
   "cell_type": "markdown",
   "metadata": {},
   "source": [
    "\n",
    "rmse  | tree_seed | split | split_seed\n",
    "\n",
    "1.650 |  836787   |  0.14 |   18004 \n",
    "\n",
    "2.180 |  571005   |  0.2  |     0\n",
    "\n",
    "2.608 |  173716\n",
    "\n",
    "2.655 |  521759\n",
    "\n",
    "2.751 |  821944"
   ]
  },
  {
   "cell_type": "code",
   "execution_count": 16,
   "metadata": {},
   "outputs": [
    {
     "name": "stdout",
     "output_type": "stream",
     "text": [
      "2.9736967696001972\n"
     ]
    }
   ],
   "source": [
    "test = pd.read_csv(\"data/test_data.csv\").drop(\"index\", axis=1).drop(low_correlation_vars, axis=1) \n",
    "test_predictions = pd.read_csv(\"data/test_data_grades.csv\").drop(\"index\", axis=1)\n",
    "\n",
    "test_set_split = 0.2\n",
    "random_forest_seed = 521759\n",
    "\n",
    "params = {\n",
    "'n_estimators': 50,\n",
    "'max_features': 0.2,\n",
    "'max_depth': 10,\n",
    "\"random_state\" : random_forest_seed\n",
    "}\n",
    "\n",
    "rf = RandomForestRegressor(**params).fit(features_train, target_train)\n",
    "prediction = rf.predict(test)\n",
    "\n",
    "rmse = np.sqrt(mean_squared_error(test_predictions, prediction))\n",
    "print(rmse)\n",
    "\n",
    "write_prediction_to_file(prediction, f\"split_{test_set_split}_forestseed_{random_forest_seed}\")\n"
   ]
  },
  {
   "cell_type": "markdown",
   "metadata": {},
   "source": [
    "- [x] ler dados\n",
    "- [x] regressão linear 70% dos dados `student_data.csv`\n",
    "- [x] testar com os restantes 30%\n",
    "- [x] prever `test_data.csv`\n",
    "- [x] parameter tuning !!!\n",
    "- [x] alterações\n",
    "- [x] submeter 👍\n",
    "\n",
    "helpful links:\n",
    "\n",
    "https://www.analyticsvidhya.com/blog/2021/05/multiple-linear-regression-using-python-and-scikit-learn/\n",
    "\n",
    "https://datatofish.com/multiple-linear-regression-python/\n",
    "\n",
    "https://scikit-learn.org/stable/tutorial/statistical_inference/supervised_learning.html\n",
    "\n",
    "https://scikit-learn.org/stable/modules/generated/sklearn.linear_model.LinearRegression.html\n",
    "\n",
    "RandomForestRegressor - https://towardsdatascience.com/random-forest-regression-5f605132d19d"
   ]
  }
 ],
 "metadata": {
  "interpreter": {
   "hash": "6863c8b90a44aebe67d01fa4c54bc3ca0e5b66b1c68c6538d569c8419e0a48de"
  },
  "kernelspec": {
   "display_name": "Python 3.10.4 ('venv': venv)",
   "language": "python",
   "name": "python3"
  },
  "language_info": {
   "codemirror_mode": {
    "name": "ipython",
    "version": 3
   },
   "file_extension": ".py",
   "mimetype": "text/x-python",
   "name": "python",
   "nbconvert_exporter": "python",
   "pygments_lexer": "ipython3",
   "version": "3.10.4"
  },
  "orig_nbformat": 4
 },
 "nbformat": 4,
 "nbformat_minor": 2
}
