{
 "cells": [
  {
   "cell_type": "markdown",
   "metadata": {},
   "source": [
    "# A minha nota (Competição Kaggle)\n",
    "\n",
    "Equipa Batatinhas123:\n",
    "\n",
    "    - João Ferreira - 21905985\n",
    "    - Paulo Pinto - 21906966\n",
    "\n",
    "Estrutura projeto\n",
    "```\n",
    "├── data\n",
    "│   └── student_data.csv\n",
    "│   └── test_data.csv\n",
    "└── notebook.ipynb\n",
    "```"
   ]
  },
  {
   "cell_type": "markdown",
   "metadata": {},
   "source": [
    "## Imports + Helpers"
   ]
  },
  {
   "cell_type": "code",
   "execution_count": 1,
   "metadata": {},
   "outputs": [],
   "source": [
    "import pandas as pd\n",
    "import numpy as np\n",
    "from numpy.random import randint\n",
    "\n",
    "import seaborn as sns\n",
    "\n",
    "from sklearn.model_selection import train_test_split\n",
    "from sklearn.metrics import mean_squared_error\n",
    "from sklearn.ensemble import RandomForestRegressor"
   ]
  },
  {
   "cell_type": "markdown",
   "metadata": {},
   "source": [
    "Leitura e Escrita"
   ]
  },
  {
   "cell_type": "code",
   "execution_count": 2,
   "metadata": {},
   "outputs": [],
   "source": [
    "def write_prediction_to_file(prediction, filename):\n",
    "    with open(f\"data/prediction_{filename}.csv\", \"w+\") as fp:\n",
    "        fp.write(f\"index,G3\\n\")\n",
    "        for i, n in enumerate(prediction):\n",
    "            fp.write(f\"{i},{n}\\n\")\n",
    "\n",
    "def write_to_best_file(rmse, pred, seed):\n",
    "    with open(f\"data/best.csv\", \"a\") as fp:\n",
    "        fp.write(f\"\\n{rmse=} ; {seed=}\")\n",
    "\n",
    "# track last seed used\n",
    "def manage_seed(counter_value=0):\n",
    "    \"\"\"\n",
    "    write to  file -> manage_seed(1234)\n",
    "    read from file -> manage_seed()\n",
    "    \"\"\"\n",
    "    if counter_value == 0:\n",
    "        with open(\"last_seed.txt\") as fp:\n",
    "            return fp.readline()\n",
    "\n",
    "    with open(\"last_seed.txt\", \"w+\") as fp:\n",
    "        fp.write(str(counter_value))\n",
    "\n",
    "# reset seed counter\n",
    "# manage_seed(1)"
   ]
  },
  {
   "cell_type": "markdown",
   "metadata": {},
   "source": [
    "## Análise dos dados"
   ]
  },
  {
   "cell_type": "code",
   "execution_count": 3,
   "metadata": {},
   "outputs": [
    {
     "data": {
      "text/html": [
       "<div>\n",
       "<style scoped>\n",
       "    .dataframe tbody tr th:only-of-type {\n",
       "        vertical-align: middle;\n",
       "    }\n",
       "\n",
       "    .dataframe tbody tr th {\n",
       "        vertical-align: top;\n",
       "    }\n",
       "\n",
       "    .dataframe thead th {\n",
       "        text-align: right;\n",
       "    }\n",
       "</style>\n",
       "<table border=\"1\" class=\"dataframe\">\n",
       "  <thead>\n",
       "    <tr style=\"text-align: right;\">\n",
       "      <th></th>\n",
       "      <th>index</th>\n",
       "      <th>age</th>\n",
       "      <th>Medu</th>\n",
       "      <th>Fedu</th>\n",
       "      <th>traveltime</th>\n",
       "      <th>studytime</th>\n",
       "      <th>failures</th>\n",
       "      <th>famrel</th>\n",
       "      <th>freetime</th>\n",
       "      <th>goout</th>\n",
       "      <th>...</th>\n",
       "      <th>activities_no</th>\n",
       "      <th>activities_yes</th>\n",
       "      <th>nursery_no</th>\n",
       "      <th>nursery_yes</th>\n",
       "      <th>higher_no</th>\n",
       "      <th>higher_yes</th>\n",
       "      <th>internet_no</th>\n",
       "      <th>internet_yes</th>\n",
       "      <th>romantic_no</th>\n",
       "      <th>romantic_yes</th>\n",
       "    </tr>\n",
       "  </thead>\n",
       "  <tbody>\n",
       "    <tr>\n",
       "      <th>0</th>\n",
       "      <td>1000</td>\n",
       "      <td>15</td>\n",
       "      <td>4</td>\n",
       "      <td>2</td>\n",
       "      <td>1</td>\n",
       "      <td>1</td>\n",
       "      <td>0</td>\n",
       "      <td>3</td>\n",
       "      <td>5</td>\n",
       "      <td>2</td>\n",
       "      <td>...</td>\n",
       "      <td>1</td>\n",
       "      <td>0</td>\n",
       "      <td>0</td>\n",
       "      <td>1</td>\n",
       "      <td>0</td>\n",
       "      <td>1</td>\n",
       "      <td>0</td>\n",
       "      <td>1</td>\n",
       "      <td>1</td>\n",
       "      <td>0</td>\n",
       "    </tr>\n",
       "    <tr>\n",
       "      <th>1</th>\n",
       "      <td>1001</td>\n",
       "      <td>18</td>\n",
       "      <td>2</td>\n",
       "      <td>1</td>\n",
       "      <td>2</td>\n",
       "      <td>2</td>\n",
       "      <td>0</td>\n",
       "      <td>4</td>\n",
       "      <td>3</td>\n",
       "      <td>5</td>\n",
       "      <td>...</td>\n",
       "      <td>1</td>\n",
       "      <td>0</td>\n",
       "      <td>0</td>\n",
       "      <td>1</td>\n",
       "      <td>1</td>\n",
       "      <td>0</td>\n",
       "      <td>0</td>\n",
       "      <td>1</td>\n",
       "      <td>0</td>\n",
       "      <td>1</td>\n",
       "    </tr>\n",
       "    <tr>\n",
       "      <th>2</th>\n",
       "      <td>1002</td>\n",
       "      <td>17</td>\n",
       "      <td>3</td>\n",
       "      <td>3</td>\n",
       "      <td>2</td>\n",
       "      <td>4</td>\n",
       "      <td>1</td>\n",
       "      <td>5</td>\n",
       "      <td>4</td>\n",
       "      <td>5</td>\n",
       "      <td>...</td>\n",
       "      <td>0</td>\n",
       "      <td>1</td>\n",
       "      <td>0</td>\n",
       "      <td>1</td>\n",
       "      <td>0</td>\n",
       "      <td>1</td>\n",
       "      <td>1</td>\n",
       "      <td>0</td>\n",
       "      <td>1</td>\n",
       "      <td>0</td>\n",
       "    </tr>\n",
       "    <tr>\n",
       "      <th>3</th>\n",
       "      <td>1003</td>\n",
       "      <td>16</td>\n",
       "      <td>3</td>\n",
       "      <td>3</td>\n",
       "      <td>1</td>\n",
       "      <td>3</td>\n",
       "      <td>0</td>\n",
       "      <td>4</td>\n",
       "      <td>3</td>\n",
       "      <td>3</td>\n",
       "      <td>...</td>\n",
       "      <td>1</td>\n",
       "      <td>0</td>\n",
       "      <td>0</td>\n",
       "      <td>1</td>\n",
       "      <td>0</td>\n",
       "      <td>1</td>\n",
       "      <td>0</td>\n",
       "      <td>1</td>\n",
       "      <td>0</td>\n",
       "      <td>1</td>\n",
       "    </tr>\n",
       "    <tr>\n",
       "      <th>4</th>\n",
       "      <td>1004</td>\n",
       "      <td>17</td>\n",
       "      <td>1</td>\n",
       "      <td>1</td>\n",
       "      <td>2</td>\n",
       "      <td>1</td>\n",
       "      <td>0</td>\n",
       "      <td>4</td>\n",
       "      <td>4</td>\n",
       "      <td>5</td>\n",
       "      <td>...</td>\n",
       "      <td>0</td>\n",
       "      <td>1</td>\n",
       "      <td>1</td>\n",
       "      <td>0</td>\n",
       "      <td>0</td>\n",
       "      <td>1</td>\n",
       "      <td>0</td>\n",
       "      <td>1</td>\n",
       "      <td>0</td>\n",
       "      <td>1</td>\n",
       "    </tr>\n",
       "    <tr>\n",
       "      <th>...</th>\n",
       "      <td>...</td>\n",
       "      <td>...</td>\n",
       "      <td>...</td>\n",
       "      <td>...</td>\n",
       "      <td>...</td>\n",
       "      <td>...</td>\n",
       "      <td>...</td>\n",
       "      <td>...</td>\n",
       "      <td>...</td>\n",
       "      <td>...</td>\n",
       "      <td>...</td>\n",
       "      <td>...</td>\n",
       "      <td>...</td>\n",
       "      <td>...</td>\n",
       "      <td>...</td>\n",
       "      <td>...</td>\n",
       "      <td>...</td>\n",
       "      <td>...</td>\n",
       "      <td>...</td>\n",
       "      <td>...</td>\n",
       "      <td>...</td>\n",
       "    </tr>\n",
       "    <tr>\n",
       "      <th>540</th>\n",
       "      <td>1540</td>\n",
       "      <td>17</td>\n",
       "      <td>4</td>\n",
       "      <td>4</td>\n",
       "      <td>3</td>\n",
       "      <td>1</td>\n",
       "      <td>3</td>\n",
       "      <td>3</td>\n",
       "      <td>3</td>\n",
       "      <td>3</td>\n",
       "      <td>...</td>\n",
       "      <td>0</td>\n",
       "      <td>1</td>\n",
       "      <td>0</td>\n",
       "      <td>1</td>\n",
       "      <td>0</td>\n",
       "      <td>1</td>\n",
       "      <td>0</td>\n",
       "      <td>1</td>\n",
       "      <td>0</td>\n",
       "      <td>1</td>\n",
       "    </tr>\n",
       "    <tr>\n",
       "      <th>541</th>\n",
       "      <td>1541</td>\n",
       "      <td>17</td>\n",
       "      <td>1</td>\n",
       "      <td>1</td>\n",
       "      <td>1</td>\n",
       "      <td>3</td>\n",
       "      <td>0</td>\n",
       "      <td>4</td>\n",
       "      <td>3</td>\n",
       "      <td>4</td>\n",
       "      <td>...</td>\n",
       "      <td>0</td>\n",
       "      <td>1</td>\n",
       "      <td>0</td>\n",
       "      <td>1</td>\n",
       "      <td>0</td>\n",
       "      <td>1</td>\n",
       "      <td>1</td>\n",
       "      <td>0</td>\n",
       "      <td>0</td>\n",
       "      <td>1</td>\n",
       "    </tr>\n",
       "    <tr>\n",
       "      <th>542</th>\n",
       "      <td>1542</td>\n",
       "      <td>17</td>\n",
       "      <td>1</td>\n",
       "      <td>3</td>\n",
       "      <td>2</td>\n",
       "      <td>1</td>\n",
       "      <td>0</td>\n",
       "      <td>5</td>\n",
       "      <td>1</td>\n",
       "      <td>2</td>\n",
       "      <td>...</td>\n",
       "      <td>0</td>\n",
       "      <td>1</td>\n",
       "      <td>0</td>\n",
       "      <td>1</td>\n",
       "      <td>0</td>\n",
       "      <td>1</td>\n",
       "      <td>1</td>\n",
       "      <td>0</td>\n",
       "      <td>0</td>\n",
       "      <td>1</td>\n",
       "    </tr>\n",
       "    <tr>\n",
       "      <th>543</th>\n",
       "      <td>1543</td>\n",
       "      <td>17</td>\n",
       "      <td>1</td>\n",
       "      <td>0</td>\n",
       "      <td>2</td>\n",
       "      <td>2</td>\n",
       "      <td>0</td>\n",
       "      <td>4</td>\n",
       "      <td>4</td>\n",
       "      <td>5</td>\n",
       "      <td>...</td>\n",
       "      <td>1</td>\n",
       "      <td>0</td>\n",
       "      <td>0</td>\n",
       "      <td>1</td>\n",
       "      <td>0</td>\n",
       "      <td>1</td>\n",
       "      <td>0</td>\n",
       "      <td>1</td>\n",
       "      <td>0</td>\n",
       "      <td>1</td>\n",
       "    </tr>\n",
       "    <tr>\n",
       "      <th>544</th>\n",
       "      <td>1544</td>\n",
       "      <td>17</td>\n",
       "      <td>2</td>\n",
       "      <td>2</td>\n",
       "      <td>1</td>\n",
       "      <td>1</td>\n",
       "      <td>0</td>\n",
       "      <td>5</td>\n",
       "      <td>1</td>\n",
       "      <td>3</td>\n",
       "      <td>...</td>\n",
       "      <td>1</td>\n",
       "      <td>0</td>\n",
       "      <td>0</td>\n",
       "      <td>1</td>\n",
       "      <td>0</td>\n",
       "      <td>1</td>\n",
       "      <td>0</td>\n",
       "      <td>1</td>\n",
       "      <td>1</td>\n",
       "      <td>0</td>\n",
       "    </tr>\n",
       "  </tbody>\n",
       "</table>\n",
       "<p>545 rows × 58 columns</p>\n",
       "</div>"
      ],
      "text/plain": [
       "     index  age  Medu  Fedu  traveltime  studytime  failures  famrel  \\\n",
       "0     1000   15     4     2           1          1         0       3   \n",
       "1     1001   18     2     1           2          2         0       4   \n",
       "2     1002   17     3     3           2          4         1       5   \n",
       "3     1003   16     3     3           1          3         0       4   \n",
       "4     1004   17     1     1           2          1         0       4   \n",
       "..     ...  ...   ...   ...         ...        ...       ...     ...   \n",
       "540   1540   17     4     4           3          1         3       3   \n",
       "541   1541   17     1     1           1          3         0       4   \n",
       "542   1542   17     1     3           2          1         0       5   \n",
       "543   1543   17     1     0           2          2         0       4   \n",
       "544   1544   17     2     2           1          1         0       5   \n",
       "\n",
       "     freetime  goout  ...  activities_no  activities_yes  nursery_no  \\\n",
       "0           5      2  ...              1               0           0   \n",
       "1           3      5  ...              1               0           0   \n",
       "2           4      5  ...              0               1           0   \n",
       "3           3      3  ...              1               0           0   \n",
       "4           4      5  ...              0               1           1   \n",
       "..        ...    ...  ...            ...             ...         ...   \n",
       "540         3      3  ...              0               1           0   \n",
       "541         3      4  ...              0               1           0   \n",
       "542         1      2  ...              0               1           0   \n",
       "543         4      5  ...              1               0           0   \n",
       "544         1      3  ...              1               0           0   \n",
       "\n",
       "     nursery_yes  higher_no  higher_yes  internet_no  internet_yes  \\\n",
       "0              1          0           1            0             1   \n",
       "1              1          1           0            0             1   \n",
       "2              1          0           1            1             0   \n",
       "3              1          0           1            0             1   \n",
       "4              0          0           1            0             1   \n",
       "..           ...        ...         ...          ...           ...   \n",
       "540            1          0           1            0             1   \n",
       "541            1          0           1            1             0   \n",
       "542            1          0           1            1             0   \n",
       "543            1          0           1            0             1   \n",
       "544            1          0           1            0             1   \n",
       "\n",
       "     romantic_no  romantic_yes  \n",
       "0              1             0  \n",
       "1              0             1  \n",
       "2              1             0  \n",
       "3              0             1  \n",
       "4              0             1  \n",
       "..           ...           ...  \n",
       "540            0             1  \n",
       "541            0             1  \n",
       "542            0             1  \n",
       "543            0             1  \n",
       "544            1             0  \n",
       "\n",
       "[545 rows x 58 columns]"
      ]
     },
     "execution_count": 3,
     "metadata": {},
     "output_type": "execute_result"
    }
   ],
   "source": [
    "notas_df = pd.read_csv(\"data/student_data.csv\")\n",
    "# notas_df = notas_df[notas_df[\"G3\"] != 0] # remove notas 0\n",
    "notas_df"
   ]
  },
  {
   "cell_type": "markdown",
   "metadata": {},
   "source": [
    "    - school (GP ≳ 2 que MS) sns.barplot(data=notas_df, x=\"school\", y=\"grade\").set_title(\"graph\")\n",
    "    - absences -> sns.lineplot(data=notas_df, y=\"absences\",x=\"grade\").set_title(\"graph\")"
   ]
  },
  {
   "cell_type": "code",
   "execution_count": 4,
   "metadata": {},
   "outputs": [
    {
     "data": {
      "text/plain": [
       "Text(0.5, 1.0, 'graph')"
      ]
     },
     "execution_count": 4,
     "metadata": {},
     "output_type": "execute_result"
    },
    {
     "data": {
      "image/png": "[encoded data removed]",
      "text/plain": [
       "<Figure size 432x288 with 1 Axes>"
      ]
     },
     "metadata": {
      "needs_background": "light"
     },
     "output_type": "display_data"
    }
   ],
   "source": [
    "sns.lineplot(data=notas_df, y=\"absences\",x=\"G3\").set_title(\"graph\")"
   ]
  },
  {
   "cell_type": "code",
   "execution_count": 5,
   "metadata": {},
   "outputs": [
    {
     "data": {
      "text/plain": [
       "Text(0.5, 1.0, 'graph')"
      ]
     },
     "execution_count": 5,
     "metadata": {},
     "output_type": "execute_result"
    },
    {
     "data": {
      "image/png": "[encoded data removed]",
      "text/plain": [
       "<Figure size 432x288 with 1 Axes>"
      ]
     },
     "metadata": {
      "needs_background": "light"
     },
     "output_type": "display_data"
    }
   ],
   "source": [
    "sns.lineplot(data=notas_df, y=\"failures\",x=\"G3\").set_title(\"graph\")"
   ]
  },
  {
   "cell_type": "markdown",
   "metadata": {},
   "source": [
    "### Analisar correlações"
   ]
  },
  {
   "cell_type": "markdown",
   "metadata": {},
   "source": [
    "correlations ->\n",
    "\n",
    "visualize - https://seaborn.pydata.org/tutorial/relational.html\n",
    "\n",
    "get - https://www.projectpro.io/recipes/drop-out-highly-correlated-features-in-python\n",
    "\n",
    "get unique - https://pandas.pydata.org/pandas-docs/stable/reference/api/pandas.Series.unstack.html"
   ]
  },
  {
   "cell_type": "code",
   "execution_count": 6,
   "metadata": {},
   "outputs": [
    {
     "data": {
      "text/plain": [
       "index         0.057305\n",
       "goout         0.078666\n",
       "famrel        0.086336\n",
       "health        0.091598\n",
       "absences      0.097812\n",
       "freetime      0.109047\n",
       "age           0.110315\n",
       "traveltime    0.163644\n",
       "Walc          0.168310\n",
       "Dalc          0.179147\n",
       "Fedu          0.198938\n",
       "Medu          0.260261\n",
       "studytime     0.281908\n",
       "failures      0.382862\n",
       "dtype: float64"
      ]
     },
     "execution_count": 6,
     "metadata": {},
     "output_type": "execute_result"
    }
   ],
   "source": [
    "correlations = notas_df.corr()\n",
    "upper_corr = correlations.where(np.triu(np.ones(correlations.shape), k = 1).astype(bool))\n",
    "unique_corr = upper_corr.unstack().dropna()\n",
    "sorted_corr = unique_corr.sort_values()\n",
    "g3_corr = abs(sorted_corr[\"G3\"]).sort_values()\n",
    "g3_corr"
   ]
  },
  {
   "cell_type": "markdown",
   "metadata": {},
   "source": [
    "Optámos por remover as variáveis independentes que tinham menos correlação com a variável dependente. Esta remoção diminui o tempo de treino (numa iteração não é significante mas em milhares começa a ser) e melhora as previsões porque as variáveis com mais correlação ficam com mais peso no valor final."
   ]
  },
  {
   "cell_type": "code",
   "execution_count": 7,
   "metadata": {},
   "outputs": [],
   "source": [
    "low_correlation_vars = [\"goout\", \"famrel\", \"health\"]"
   ]
  },
  {
   "cell_type": "markdown",
   "metadata": {},
   "source": [
    "## Leitura dos dados"
   ]
  },
  {
   "cell_type": "markdown",
   "metadata": {},
   "source": [
    "Testámos remover as rows em que a nota final era 0, mas esta alteração piorou os resultados.\n",
    "\n",
    "Avaliámos a performance dos modelos criados mediante a divisão dos dados e deduzimos que a melhor percentagem para dados de treino é entre 70% e 80%."
   ]
  },
  {
   "cell_type": "code",
   "execution_count": 8,
   "metadata": {},
   "outputs": [
    {
     "name": "stdout",
     "output_type": "stream",
     "text": [
      "0\n"
     ]
    }
   ],
   "source": [
    "notas_df = pd.read_csv(\"data/student_data.csv\")\n",
    "# notas_df = notas_df[notas_df[\"G3\"] == 0] # remove notas 0\n",
    "notas_df = notas_df.drop(low_correlation_vars, axis=1)\n",
    "notas = notas_df.drop([\"G3\", \"index\"], axis=1)\n",
    "\n",
    "# splitting the data\n",
    "features_train, features_test, target_train, target_test = \\\n",
    "train_test_split(notas, notas_df['G3'], test_size = 0.2, random_state=0)"
   ]
  },
  {
   "cell_type": "markdown",
   "metadata": {},
   "source": [
    "## Treinar um modelo"
   ]
  },
  {
   "cell_type": "markdown",
   "metadata": {},
   "source": [
    "Seguindo [o guia de escolha de estimators do sklearn](https://scikit-learn.org/stable/tutorial/machine_learning_map/index.html), vemos que o *estimator* correto é um da categoria EnsebleRegressors. Optámos pelo RandomForestRegressor."
   ]
  },
  {
   "cell_type": "code",
   "execution_count": 9,
   "metadata": {},
   "outputs": [
    {
     "name": "stdout",
     "output_type": "stream",
     "text": [
      "new best - rmse 2.728 350894\n",
      "new best - rmse 2.711 734279\n",
      "new best - rmse 2.706 824186\n",
      "best rmse 2.706, seed 824186\n"
     ]
    }
   ],
   "source": [
    "# código para avaliar os diferentes parâmetros do RandomForestRegressor e guardar os melhores resultados.\n",
    "\n",
    "best = 3.0, 0, 0 # save best so far\n",
    "iterations = 20\n",
    "\n",
    "for r in range(iterations):\n",
    "    rand = randint(999999)\n",
    "    \n",
    "    params = {\n",
    "    'n_estimators': 50,\n",
    "    'max_features': 0.2,\n",
    "    'max_depth': 10,\n",
    "    \"random_state\" : rand\n",
    "    }\n",
    "    \n",
    "    rf = RandomForestRegressor(**params).fit(features_train, target_train)\n",
    "    \n",
    "    prediction = rf.predict(features_test)\n",
    "    rmse = np.sqrt(mean_squared_error(target_test, prediction))\n",
    "\n",
    "    # replace best so far\n",
    "    if rmse < best[0]:\n",
    "        best = rmse, rand, prediction\n",
    "        print(f\"new best - rmse {best[0]:.3f} {best[1]}\")\n",
    "\n",
    "# save best prediction\n",
    "write_prediction_to_file(best[2], f\"rmse_{best[0]:.3f}_seed_{best[1]}\")\n",
    "\n",
    "print(f\"best rmse {best[0]:.3f}, seed {best[1]}\")"
   ]
  },
  {
   "cell_type": "markdown",
   "metadata": {},
   "source": [
    "Deduzimos por análise dos valores RMSE que os melhores valores para os parâmetros foram os seguintes:\n",
    "\n",
    "| Parâmetro | Melhores Valores | Significado |\n",
    "| ----------- | ----------- | ----------- |\n",
    "| n_estimators | entre 45 e 55 | Quantas decision trees são usadas |\n",
    "| max_features | entre 0.2 e 0.3 | % máx. de *features* analisadas por split |\n",
    "| max_depth | entre 10 e 13 | Número máximo de níveis da árvore |\n",
    "| random_state | não tem | Escolher random seed |"
   ]
  },
  {
   "cell_type": "markdown",
   "metadata": {},
   "source": [
    "## Previsão e Escrita\n",
    "\n",
    "Prever os valores `test_data.csv` e guardar no ficheiro para submissão. "
   ]
  },
  {
   "cell_type": "code",
   "execution_count": 10,
   "metadata": {},
   "outputs": [
    {
     "name": "stdout",
     "output_type": "stream",
     "text": [
      "2.655024294643167\n"
     ]
    }
   ],
   "source": [
    "test_values = pd.read_csv(\"data/test_data.csv\").drop(\"index\", axis=1).drop(low_correlation_vars, axis=1) \n",
    "\n",
    "random_forest_seed = 521759\n",
    "\n",
    "params = {\n",
    "    'n_estimators': 50,\n",
    "    'max_features': 0.2,\n",
    "    'max_depth': 10,\n",
    "    \"random_state\" : random_forest_seed\n",
    "}\n",
    "\n",
    "rf = RandomForestRegressor(**params).fit(features_train, target_train)\n",
    "prediction = rf.predict(features_test)\n",
    "\n",
    "rmse = np.sqrt(mean_squared_error(target_test, prediction))\n",
    "\n",
    "print(rmse)\n",
    "\n",
    "# guardar previsão no ficheiro.csv\n",
    "prediction_submit = rf.predict(test_values)\n",
    "write_prediction_to_file(prediction_submit, f\"rmse_{rmse:.3f}_forestseed_{random_forest_seed}\")"
   ]
  },
  {
   "cell_type": "markdown",
   "metadata": {},
   "source": [
    "Timeline:\n",
    "- [x] ler dados\n",
    "- [x] regressão linear 70% dos dados `student_data.csv`\n",
    "- [x] testar com os restantes 30%\n",
    "- [x] prever `test_data.csv`\n",
    "- [x] parameter tuning !!!\n",
    "- [x] alterações\n",
    "- [x] submeter 👍\n",
    "\n",
    "Webgrafia:\n",
    "\n",
    "https://www.analyticsvidhya.com/blog/2021/05/multiple-linear-regression-using-python-and-scikit-learn/\n",
    "\n",
    "https://datatofish.com/multiple-linear-regression-python/\n",
    "\n",
    "https://scikit-learn.org/stable/tutorial/statistical_inference/supervised_learning.html\n",
    "\n",
    "https://scikit-learn.org/stable/modules/generated/sklearn.linear_model.LinearRegression.html\n",
    "\n",
    "RandomForestRegressor - https://towardsdatascience.com/random-forest-regression-5f605132d19d"
   ]
  }
 ],
 "metadata": {
  "interpreter": {
   "hash": "6863c8b90a44aebe67d01fa4c54bc3ca0e5b66b1c68c6538d569c8419e0a48de"
  },
  "kernelspec": {
   "display_name": "Python 3.10.4 ('venv': venv)",
   "language": "python",
   "name": "python3"
  },
  "language_info": {
   "codemirror_mode": {
    "name": "ipython",
    "version": 3
   },
   "file_extension": ".py",
   "mimetype": "text/x-python",
   "name": "python",
   "nbconvert_exporter": "python",
   "pygments_lexer": "ipython3",
   "version": "3.10.4"
  },
  "orig_nbformat": 4
 },
 "nbformat": 4,
 "nbformat_minor": 2
}
